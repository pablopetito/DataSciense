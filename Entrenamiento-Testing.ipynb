{
 "cells": [
  {
   "cell_type": "code",
   "execution_count": 1,
   "metadata": {},
   "outputs": [],
   "source": [
    "import pandas as pd\n",
    "import numpy as np\n",
    "import os\n",
    "import csv"
   ]
  },
  {
   "cell_type": "code",
   "execution_count": 28,
   "metadata": {},
   "outputs": [],
   "source": [
    "from sklearn.model_selection import train_test_split\n",
    "import matplotlib.pyplot as plt"
   ]
  },
  {
   "cell_type": "markdown",
   "metadata": {},
   "source": [
    "#### Conjunto de entrenamiento y conjunto de testing"
   ]
  },
  {
   "cell_type": "code",
   "execution_count": 4,
   "metadata": {},
   "outputs": [],
   "source": [
    "data = pd.read_csv(\"C:/Users/User/Documents/Udemy-Cursos/DataScience-Python/python-ml-course/datasets/customer-churn-model/Customer Churn Model.txt\")"
   ]
  },
  {
   "cell_type": "code",
   "execution_count": 5,
   "metadata": {},
   "outputs": [
    {
     "data": {
      "text/plain": [
       "3333"
      ]
     },
     "execution_count": 5,
     "metadata": {},
     "output_type": "execute_result"
    }
   ],
   "source": [
    "len(data)"
   ]
  },
  {
   "cell_type": "markdown",
   "metadata": {},
   "source": [
    "#### Dividir utilizando normal"
   ]
  },
  {
   "cell_type": "code",
   "execution_count": 6,
   "metadata": {},
   "outputs": [],
   "source": [
    "a = np.random.randn(len(data))"
   ]
  },
  {
   "cell_type": "code",
   "execution_count": 10,
   "metadata": {},
   "outputs": [
    {
     "data": {
      "text/plain": [
       "(array([  4.,  62., 204., 492., 812., 775., 573., 306.,  82.,  23.]),\n",
       " array([-3.33020969, -2.68419615, -2.0381826 , -1.39216906, -0.74615551,\n",
       "        -0.10014197,  0.54587158,  1.19188512,  1.83789867,  2.48391221,\n",
       "         3.12992576]),\n",
       " <a list of 10 Patch objects>)"
      ]
     },
     "execution_count": 10,
     "metadata": {},
     "output_type": "execute_result"
    },
    {
     "data": {
      "image/png": "[encoded data removed]",
      "text/plain": [
       "<Figure size 432x288 with 1 Axes>"
      ]
     },
     "metadata": {
      "needs_background": "light"
     },
     "output_type": "display_data"
    }
   ],
   "source": [
    "plt.hist(a)"
   ]
  },
  {
   "cell_type": "code",
   "execution_count": 22,
   "metadata": {},
   "outputs": [],
   "source": [
    "check = (a<0.8)"
   ]
  },
  {
   "cell_type": "code",
   "execution_count": 20,
   "metadata": {},
   "outputs": [
    {
     "data": {
      "text/plain": [
       "array([ True, False,  True, ..., False, False,  True])"
      ]
     },
     "execution_count": 20,
     "metadata": {},
     "output_type": "execute_result"
    }
   ],
   "source": [
    "check"
   ]
  },
  {
   "cell_type": "code",
   "execution_count": 24,
   "metadata": {},
   "outputs": [],
   "source": [
    "training = data[check]\n",
    "testing = data[~check]"
   ]
  },
  {
   "cell_type": "code",
   "execution_count": 25,
   "metadata": {},
   "outputs": [
    {
     "data": {
      "text/plain": [
       "2584"
      ]
     },
     "execution_count": 25,
     "metadata": {},
     "output_type": "execute_result"
    }
   ],
   "source": [
    "len(training)"
   ]
  },
  {
   "cell_type": "code",
   "execution_count": 26,
   "metadata": {},
   "outputs": [
    {
     "data": {
      "text/plain": [
       "749"
      ]
     },
     "execution_count": 26,
     "metadata": {},
     "output_type": "execute_result"
    }
   ],
   "source": [
    "len(testing)"
   ]
  },
  {
   "cell_type": "markdown",
   "metadata": {},
   "source": [
    "#### Division con Libreria sklearn"
   ]
  },
  {
   "cell_type": "code",
   "execution_count": 29,
   "metadata": {},
   "outputs": [],
   "source": [
    "train, test = train_test_split(data, test_size = 0.2)"
   ]
  },
  {
   "cell_type": "code",
   "execution_count": 31,
   "metadata": {},
   "outputs": [
    {
     "data": {
      "text/plain": [
       "2666"
      ]
     },
     "execution_count": 31,
     "metadata": {},
     "output_type": "execute_result"
    }
   ],
   "source": [
    "len(train)"
   ]
  },
  {
   "cell_type": "code",
   "execution_count": 32,
   "metadata": {},
   "outputs": [
    {
     "data": {
      "text/plain": [
       "667"
      ]
     },
     "execution_count": 32,
     "metadata": {},
     "output_type": "execute_result"
    }
   ],
   "source": [
    "len(test)"
   ]
  },
  {
   "cell_type": "markdown",
   "metadata": {},
   "source": [
    "#### Usando una funcion de shuffle"
   ]
  },
  {
   "cell_type": "code",
   "execution_count": 33,
   "metadata": {},
   "outputs": [],
   "source": [
    "import sklearn as skl"
   ]
  },
  {
   "cell_type": "code",
   "execution_count": 36,
   "metadata": {},
   "outputs": [],
   "source": [
    "data = skl.utils.shuffle(data)"
   ]
  },
  {
   "cell_type": "code",
   "execution_count": 37,
   "metadata": {},
   "outputs": [
    {
     "data": {
      "text/html": [
       "<div>\n",
       "<style scoped>\n",
       "    .dataframe tbody tr th:only-of-type {\n",
       "        vertical-align: middle;\n",
       "    }\n",
       "\n",
       "    .dataframe tbody tr th {\n",
       "        vertical-align: top;\n",
       "    }\n",
       "\n",
       "    .dataframe thead th {\n",
       "        text-align: right;\n",
       "    }\n",
       "</style>\n",
       "<table border=\"1\" class=\"dataframe\">\n",
       "  <thead>\n",
       "    <tr style=\"text-align: right;\">\n",
       "      <th></th>\n",
       "      <th>State</th>\n",
       "      <th>Account Length</th>\n",
       "      <th>Area Code</th>\n",
       "      <th>Phone</th>\n",
       "      <th>Int'l Plan</th>\n",
       "      <th>VMail Plan</th>\n",
       "      <th>VMail Message</th>\n",
       "      <th>Day Mins</th>\n",
       "      <th>Day Calls</th>\n",
       "      <th>Day Charge</th>\n",
       "      <th>...</th>\n",
       "      <th>Eve Calls</th>\n",
       "      <th>Eve Charge</th>\n",
       "      <th>Night Mins</th>\n",
       "      <th>Night Calls</th>\n",
       "      <th>Night Charge</th>\n",
       "      <th>Intl Mins</th>\n",
       "      <th>Intl Calls</th>\n",
       "      <th>Intl Charge</th>\n",
       "      <th>CustServ Calls</th>\n",
       "      <th>Churn?</th>\n",
       "    </tr>\n",
       "  </thead>\n",
       "  <tbody>\n",
       "    <tr>\n",
       "      <th>824</th>\n",
       "      <td>DE</td>\n",
       "      <td>147</td>\n",
       "      <td>510</td>\n",
       "      <td>400-2203</td>\n",
       "      <td>no</td>\n",
       "      <td>no</td>\n",
       "      <td>0</td>\n",
       "      <td>209.4</td>\n",
       "      <td>104</td>\n",
       "      <td>35.60</td>\n",
       "      <td>...</td>\n",
       "      <td>78</td>\n",
       "      <td>11.26</td>\n",
       "      <td>149.4</td>\n",
       "      <td>123</td>\n",
       "      <td>6.72</td>\n",
       "      <td>11.3</td>\n",
       "      <td>3</td>\n",
       "      <td>3.05</td>\n",
       "      <td>2</td>\n",
       "      <td>False.</td>\n",
       "    </tr>\n",
       "    <tr>\n",
       "      <th>696</th>\n",
       "      <td>AR</td>\n",
       "      <td>156</td>\n",
       "      <td>415</td>\n",
       "      <td>388-6223</td>\n",
       "      <td>no</td>\n",
       "      <td>no</td>\n",
       "      <td>0</td>\n",
       "      <td>178.8</td>\n",
       "      <td>94</td>\n",
       "      <td>30.40</td>\n",
       "      <td>...</td>\n",
       "      <td>97</td>\n",
       "      <td>15.16</td>\n",
       "      <td>169.2</td>\n",
       "      <td>77</td>\n",
       "      <td>7.61</td>\n",
       "      <td>7.5</td>\n",
       "      <td>3</td>\n",
       "      <td>2.03</td>\n",
       "      <td>1</td>\n",
       "      <td>False.</td>\n",
       "    </tr>\n",
       "    <tr>\n",
       "      <th>2424</th>\n",
       "      <td>MT</td>\n",
       "      <td>97</td>\n",
       "      <td>415</td>\n",
       "      <td>416-7013</td>\n",
       "      <td>no</td>\n",
       "      <td>yes</td>\n",
       "      <td>15</td>\n",
       "      <td>117.6</td>\n",
       "      <td>97</td>\n",
       "      <td>19.99</td>\n",
       "      <td>...</td>\n",
       "      <td>126</td>\n",
       "      <td>16.69</td>\n",
       "      <td>157.4</td>\n",
       "      <td>113</td>\n",
       "      <td>7.08</td>\n",
       "      <td>6.4</td>\n",
       "      <td>3</td>\n",
       "      <td>1.73</td>\n",
       "      <td>1</td>\n",
       "      <td>False.</td>\n",
       "    </tr>\n",
       "    <tr>\n",
       "      <th>3182</th>\n",
       "      <td>WV</td>\n",
       "      <td>109</td>\n",
       "      <td>415</td>\n",
       "      <td>405-2653</td>\n",
       "      <td>no</td>\n",
       "      <td>no</td>\n",
       "      <td>0</td>\n",
       "      <td>180.0</td>\n",
       "      <td>100</td>\n",
       "      <td>30.60</td>\n",
       "      <td>...</td>\n",
       "      <td>103</td>\n",
       "      <td>19.47</td>\n",
       "      <td>139.4</td>\n",
       "      <td>105</td>\n",
       "      <td>6.27</td>\n",
       "      <td>7.8</td>\n",
       "      <td>8</td>\n",
       "      <td>2.11</td>\n",
       "      <td>3</td>\n",
       "      <td>False.</td>\n",
       "    </tr>\n",
       "    <tr>\n",
       "      <th>783</th>\n",
       "      <td>KS</td>\n",
       "      <td>103</td>\n",
       "      <td>408</td>\n",
       "      <td>342-3678</td>\n",
       "      <td>yes</td>\n",
       "      <td>no</td>\n",
       "      <td>0</td>\n",
       "      <td>62.8</td>\n",
       "      <td>124</td>\n",
       "      <td>10.68</td>\n",
       "      <td>...</td>\n",
       "      <td>66</td>\n",
       "      <td>14.48</td>\n",
       "      <td>280.2</td>\n",
       "      <td>78</td>\n",
       "      <td>12.61</td>\n",
       "      <td>9.4</td>\n",
       "      <td>4</td>\n",
       "      <td>2.54</td>\n",
       "      <td>3</td>\n",
       "      <td>False.</td>\n",
       "    </tr>\n",
       "    <tr>\n",
       "      <th>...</th>\n",
       "      <td>...</td>\n",
       "      <td>...</td>\n",
       "      <td>...</td>\n",
       "      <td>...</td>\n",
       "      <td>...</td>\n",
       "      <td>...</td>\n",
       "      <td>...</td>\n",
       "      <td>...</td>\n",
       "      <td>...</td>\n",
       "      <td>...</td>\n",
       "      <td>...</td>\n",
       "      <td>...</td>\n",
       "      <td>...</td>\n",
       "      <td>...</td>\n",
       "      <td>...</td>\n",
       "      <td>...</td>\n",
       "      <td>...</td>\n",
       "      <td>...</td>\n",
       "      <td>...</td>\n",
       "      <td>...</td>\n",
       "      <td>...</td>\n",
       "    </tr>\n",
       "    <tr>\n",
       "      <th>2499</th>\n",
       "      <td>CA</td>\n",
       "      <td>120</td>\n",
       "      <td>415</td>\n",
       "      <td>375-5547</td>\n",
       "      <td>no</td>\n",
       "      <td>no</td>\n",
       "      <td>0</td>\n",
       "      <td>252.1</td>\n",
       "      <td>110</td>\n",
       "      <td>42.86</td>\n",
       "      <td>...</td>\n",
       "      <td>103</td>\n",
       "      <td>19.22</td>\n",
       "      <td>155.6</td>\n",
       "      <td>83</td>\n",
       "      <td>7.00</td>\n",
       "      <td>13.8</td>\n",
       "      <td>3</td>\n",
       "      <td>3.73</td>\n",
       "      <td>1</td>\n",
       "      <td>False.</td>\n",
       "    </tr>\n",
       "    <tr>\n",
       "      <th>3287</th>\n",
       "      <td>KS</td>\n",
       "      <td>170</td>\n",
       "      <td>415</td>\n",
       "      <td>404-5840</td>\n",
       "      <td>no</td>\n",
       "      <td>yes</td>\n",
       "      <td>42</td>\n",
       "      <td>199.5</td>\n",
       "      <td>119</td>\n",
       "      <td>33.92</td>\n",
       "      <td>...</td>\n",
       "      <td>90</td>\n",
       "      <td>11.48</td>\n",
       "      <td>184.6</td>\n",
       "      <td>49</td>\n",
       "      <td>8.31</td>\n",
       "      <td>10.9</td>\n",
       "      <td>3</td>\n",
       "      <td>2.94</td>\n",
       "      <td>4</td>\n",
       "      <td>True.</td>\n",
       "    </tr>\n",
       "    <tr>\n",
       "      <th>1185</th>\n",
       "      <td>DC</td>\n",
       "      <td>123</td>\n",
       "      <td>415</td>\n",
       "      <td>406-8599</td>\n",
       "      <td>no</td>\n",
       "      <td>no</td>\n",
       "      <td>0</td>\n",
       "      <td>211.0</td>\n",
       "      <td>92</td>\n",
       "      <td>35.87</td>\n",
       "      <td>...</td>\n",
       "      <td>102</td>\n",
       "      <td>18.45</td>\n",
       "      <td>214.8</td>\n",
       "      <td>104</td>\n",
       "      <td>9.67</td>\n",
       "      <td>9.8</td>\n",
       "      <td>7</td>\n",
       "      <td>2.65</td>\n",
       "      <td>3</td>\n",
       "      <td>False.</td>\n",
       "    </tr>\n",
       "    <tr>\n",
       "      <th>1266</th>\n",
       "      <td>IA</td>\n",
       "      <td>42</td>\n",
       "      <td>415</td>\n",
       "      <td>348-1528</td>\n",
       "      <td>no</td>\n",
       "      <td>no</td>\n",
       "      <td>0</td>\n",
       "      <td>155.4</td>\n",
       "      <td>127</td>\n",
       "      <td>26.42</td>\n",
       "      <td>...</td>\n",
       "      <td>45</td>\n",
       "      <td>13.95</td>\n",
       "      <td>157.7</td>\n",
       "      <td>128</td>\n",
       "      <td>7.10</td>\n",
       "      <td>9.0</td>\n",
       "      <td>3</td>\n",
       "      <td>2.43</td>\n",
       "      <td>0</td>\n",
       "      <td>False.</td>\n",
       "    </tr>\n",
       "    <tr>\n",
       "      <th>1875</th>\n",
       "      <td>NY</td>\n",
       "      <td>99</td>\n",
       "      <td>415</td>\n",
       "      <td>386-4581</td>\n",
       "      <td>no</td>\n",
       "      <td>no</td>\n",
       "      <td>0</td>\n",
       "      <td>145.6</td>\n",
       "      <td>102</td>\n",
       "      <td>24.75</td>\n",
       "      <td>...</td>\n",
       "      <td>87</td>\n",
       "      <td>19.63</td>\n",
       "      <td>181.5</td>\n",
       "      <td>86</td>\n",
       "      <td>8.17</td>\n",
       "      <td>11.4</td>\n",
       "      <td>7</td>\n",
       "      <td>3.08</td>\n",
       "      <td>1</td>\n",
       "      <td>False.</td>\n",
       "    </tr>\n",
       "  </tbody>\n",
       "</table>\n",
       "<p>3333 rows × 21 columns</p>\n",
       "</div>"
      ],
      "text/plain": [
       "     State  Account Length  Area Code     Phone Int'l Plan VMail Plan  \\\n",
       "824     DE             147        510  400-2203         no         no   \n",
       "696     AR             156        415  388-6223         no         no   \n",
       "2424    MT              97        415  416-7013         no        yes   \n",
       "3182    WV             109        415  405-2653         no         no   \n",
       "783     KS             103        408  342-3678        yes         no   \n",
       "...    ...             ...        ...       ...        ...        ...   \n",
       "2499    CA             120        415  375-5547         no         no   \n",
       "3287    KS             170        415  404-5840         no        yes   \n",
       "1185    DC             123        415  406-8599         no         no   \n",
       "1266    IA              42        415  348-1528         no         no   \n",
       "1875    NY              99        415  386-4581         no         no   \n",
       "\n",
       "      VMail Message  Day Mins  Day Calls  Day Charge  ...  Eve Calls  \\\n",
       "824               0     209.4        104       35.60  ...         78   \n",
       "696               0     178.8         94       30.40  ...         97   \n",
       "2424             15     117.6         97       19.99  ...        126   \n",
       "3182              0     180.0        100       30.60  ...        103   \n",
       "783               0      62.8        124       10.68  ...         66   \n",
       "...             ...       ...        ...         ...  ...        ...   \n",
       "2499              0     252.1        110       42.86  ...        103   \n",
       "3287             42     199.5        119       33.92  ...         90   \n",
       "1185              0     211.0         92       35.87  ...        102   \n",
       "1266              0     155.4        127       26.42  ...         45   \n",
       "1875              0     145.6        102       24.75  ...         87   \n",
       "\n",
       "      Eve Charge  Night Mins  Night Calls  Night Charge  Intl Mins  \\\n",
       "824        11.26       149.4          123          6.72       11.3   \n",
       "696        15.16       169.2           77          7.61        7.5   \n",
       "2424       16.69       157.4          113          7.08        6.4   \n",
       "3182       19.47       139.4          105          6.27        7.8   \n",
       "783        14.48       280.2           78         12.61        9.4   \n",
       "...          ...         ...          ...           ...        ...   \n",
       "2499       19.22       155.6           83          7.00       13.8   \n",
       "3287       11.48       184.6           49          8.31       10.9   \n",
       "1185       18.45       214.8          104          9.67        9.8   \n",
       "1266       13.95       157.7          128          7.10        9.0   \n",
       "1875       19.63       181.5           86          8.17       11.4   \n",
       "\n",
       "      Intl Calls  Intl Charge  CustServ Calls  Churn?  \n",
       "824            3         3.05               2  False.  \n",
       "696            3         2.03               1  False.  \n",
       "2424           3         1.73               1  False.  \n",
       "3182           8         2.11               3  False.  \n",
       "783            4         2.54               3  False.  \n",
       "...          ...          ...             ...     ...  \n",
       "2499           3         3.73               1  False.  \n",
       "3287           3         2.94               4   True.  \n",
       "1185           7         2.65               3  False.  \n",
       "1266           3         2.43               0  False.  \n",
       "1875           7         3.08               1  False.  \n",
       "\n",
       "[3333 rows x 21 columns]"
      ]
     },
     "execution_count": 37,
     "metadata": {},
     "output_type": "execute_result"
    }
   ],
   "source": [
    "data"
   ]
  },
  {
   "cell_type": "code",
   "execution_count": 39,
   "metadata": {},
   "outputs": [],
   "source": [
    "cut_id = int(0.75*len(data))\n",
    "train_data = data[:cut_id]\n",
    "test_data = data[cut_id:]"
   ]
  },
  {
   "cell_type": "code",
   "execution_count": 40,
   "metadata": {},
   "outputs": [
    {
     "data": {
      "text/plain": [
       "2499"
      ]
     },
     "execution_count": 40,
     "metadata": {},
     "output_type": "execute_result"
    }
   ],
   "source": [
    "len(train_data)"
   ]
  },
  {
   "cell_type": "code",
   "execution_count": 41,
   "metadata": {},
   "outputs": [
    {
     "data": {
      "text/plain": [
       "834"
      ]
     },
     "execution_count": 41,
     "metadata": {},
     "output_type": "execute_result"
    }
   ],
   "source": [
    "len(test_data)"
   ]
  },
  {
   "cell_type": "markdown",
   "metadata": {},
   "source": [
    "###### Combinacion de dos dataset por filas "
   ]
  },
  {
   "cell_type": "code",
   "execution_count": null,
   "metadata": {},
   "outputs": [],
   "source": []
  }
 ],
 "metadata": {
  "kernelspec": {
   "display_name": "Python 3",
   "language": "python",
   "name": "python3"
  },
  "language_info": {
   "codemirror_mode": {
    "name": "ipython",
    "version": 3
   },
   "file_extension": ".py",
   "mimetype": "text/x-python",
   "name": "python",
   "nbconvert_exporter": "python",
   "pygments_lexer": "ipython3",
   "version": "3.7.7"
  }
 },
 "nbformat": 4,
 "nbformat_minor": 4
}
