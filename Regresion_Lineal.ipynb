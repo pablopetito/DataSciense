{
 "cells": [
  {
   "cell_type": "markdown",
   "metadata": {},
   "source": [
    "#### Modelo de Regresion Lineal\n",
    "##### Modelo con datos simulados \n",
    "* y = a + b * x\n",
    "* x: 100 valores distribuidos segun una N:(1.5, 2.5)\n",
    "* ye= 5 + 1.9 * x + e\n",
    "* e estara distribuida segun una N(0 ,  0.8)\n"
   ]
  },
  {
   "cell_type": "code",
   "execution_count": 2,
   "metadata": {},
   "outputs": [],
   "source": [
    "import pandas as pd\n",
    "import numpy as np"
   ]
  },
  {
   "cell_type": "code",
   "execution_count": 3,
   "metadata": {},
   "outputs": [],
   "source": [
    "x = 1.5 + 2.5 * np.random.randn(100)"
   ]
  },
  {
   "cell_type": "code",
   "execution_count": 5,
   "metadata": {},
   "outputs": [],
   "source": [
    "res = 0 + 0.8 * np.random.randn(100)"
   ]
  },
  {
   "cell_type": "code",
   "execution_count": 6,
   "metadata": {},
   "outputs": [],
   "source": [
    "y_pred = 5 + 1.9 * x"
   ]
  },
  {
   "cell_type": "code",
   "execution_count": 7,
   "metadata": {},
   "outputs": [],
   "source": [
    "y_act = 5 + 1.9 * x + res"
   ]
  },
  {
   "cell_type": "code",
   "execution_count": 10,
   "metadata": {},
   "outputs": [],
   "source": [
    "x_list = x.tolist()\n",
    "y_pred_list = y_pred.tolist()\n",
    "y_act_list = y_act.tolist()"
   ]
  },
  {
   "cell_type": "code",
   "execution_count": 11,
   "metadata": {},
   "outputs": [],
   "source": [
    "data = pd.DataFrame (\n",
    "    {\n",
    "    \"x\": x_list,\n",
    "    \"y_actual\": y_act_list,\n",
    "    \"y_prediccion\": y_pred_list\n",
    "    }\n",
    ")"
   ]
  },
  {
   "cell_type": "code",
   "execution_count": 12,
   "metadata": {},
   "outputs": [
    {
     "data": {
      "text/html": [
       "<div>\n",
       "<style scoped>\n",
       "    .dataframe tbody tr th:only-of-type {\n",
       "        vertical-align: middle;\n",
       "    }\n",
       "\n",
       "    .dataframe tbody tr th {\n",
       "        vertical-align: top;\n",
       "    }\n",
       "\n",
       "    .dataframe thead th {\n",
       "        text-align: right;\n",
       "    }\n",
       "</style>\n",
       "<table border=\"1\" class=\"dataframe\">\n",
       "  <thead>\n",
       "    <tr style=\"text-align: right;\">\n",
       "      <th></th>\n",
       "      <th>x</th>\n",
       "      <th>y_actual</th>\n",
       "      <th>y_prediccion</th>\n",
       "    </tr>\n",
       "  </thead>\n",
       "  <tbody>\n",
       "    <tr>\n",
       "      <th>0</th>\n",
       "      <td>1.824888</td>\n",
       "      <td>8.088158</td>\n",
       "      <td>8.467286</td>\n",
       "    </tr>\n",
       "    <tr>\n",
       "      <th>1</th>\n",
       "      <td>2.587756</td>\n",
       "      <td>10.398467</td>\n",
       "      <td>9.916737</td>\n",
       "    </tr>\n",
       "    <tr>\n",
       "      <th>2</th>\n",
       "      <td>1.189378</td>\n",
       "      <td>8.711310</td>\n",
       "      <td>7.259818</td>\n",
       "    </tr>\n",
       "    <tr>\n",
       "      <th>3</th>\n",
       "      <td>5.023783</td>\n",
       "      <td>15.046272</td>\n",
       "      <td>14.545187</td>\n",
       "    </tr>\n",
       "    <tr>\n",
       "      <th>4</th>\n",
       "      <td>0.683970</td>\n",
       "      <td>6.288353</td>\n",
       "      <td>6.299543</td>\n",
       "    </tr>\n",
       "    <tr>\n",
       "      <th>...</th>\n",
       "      <td>...</td>\n",
       "      <td>...</td>\n",
       "      <td>...</td>\n",
       "    </tr>\n",
       "    <tr>\n",
       "      <th>95</th>\n",
       "      <td>4.295799</td>\n",
       "      <td>13.393090</td>\n",
       "      <td>13.162019</td>\n",
       "    </tr>\n",
       "    <tr>\n",
       "      <th>96</th>\n",
       "      <td>3.233276</td>\n",
       "      <td>11.259903</td>\n",
       "      <td>11.143224</td>\n",
       "    </tr>\n",
       "    <tr>\n",
       "      <th>97</th>\n",
       "      <td>-1.401949</td>\n",
       "      <td>2.395450</td>\n",
       "      <td>2.336296</td>\n",
       "    </tr>\n",
       "    <tr>\n",
       "      <th>98</th>\n",
       "      <td>2.813378</td>\n",
       "      <td>10.211486</td>\n",
       "      <td>10.345418</td>\n",
       "    </tr>\n",
       "    <tr>\n",
       "      <th>99</th>\n",
       "      <td>-1.650053</td>\n",
       "      <td>2.334885</td>\n",
       "      <td>1.864899</td>\n",
       "    </tr>\n",
       "  </tbody>\n",
       "</table>\n",
       "<p>100 rows × 3 columns</p>\n",
       "</div>"
      ],
      "text/plain": [
       "           x   y_actual  y_prediccion\n",
       "0   1.824888   8.088158      8.467286\n",
       "1   2.587756  10.398467      9.916737\n",
       "2   1.189378   8.711310      7.259818\n",
       "3   5.023783  15.046272     14.545187\n",
       "4   0.683970   6.288353      6.299543\n",
       "..       ...        ...           ...\n",
       "95  4.295799  13.393090     13.162019\n",
       "96  3.233276  11.259903     11.143224\n",
       "97 -1.401949   2.395450      2.336296\n",
       "98  2.813378  10.211486     10.345418\n",
       "99 -1.650053   2.334885      1.864899\n",
       "\n",
       "[100 rows x 3 columns]"
      ]
     },
     "execution_count": 12,
     "metadata": {},
     "output_type": "execute_result"
    }
   ],
   "source": [
    "data"
   ]
  },
  {
   "cell_type": "code",
   "execution_count": 13,
   "metadata": {},
   "outputs": [],
   "source": [
    "import matplotlib.pyplot as plt"
   ]
  },
  {
   "cell_type": "code",
   "execution_count": 14,
   "metadata": {},
   "outputs": [],
   "source": [
    "y_mean = [np.mean(y_act) for i in range(1, len(x_list) +1)]"
   ]
  },
  {
   "cell_type": "code",
   "execution_count": 21,
   "metadata": {},
   "outputs": [
    {
     "data": {
      "text/plain": [
       "Text(0.5, 1.0, 'Valor Actual vs Prediccion')"
      ]
     },
     "execution_count": 21,
     "metadata": {},
     "output_type": "execute_result"
    },
    {
     "data": {
      "image/png": "[encoded data removed]",
      "text/plain": [
       "<Figure size 432x288 with 1 Axes>"
      ]
     },
     "metadata": {
      "needs_background": "light"
     },
     "output_type": "display_data"
    }
   ],
   "source": [
    "%matplotlib inline\n",
    "plt.plot(x, y_pred)\n",
    "plt.plot(x, y_act, \"ro\")\n",
    "plt.plot(x, y_mean, \"y\")\n",
    "plt.title(\"Valor Actual vs Prediccion\")\n"
   ]
  },
  {
   "cell_type": "code",
   "execution_count": 15,
   "metadata": {},
   "outputs": [],
   "source": [
    "data[\"SSR\"]=(data[\"y_prediccion\"]-np.mean(y_act))**2\n",
    "data[\"SSD\"]=(data[\"y_prediccion\"]-data[\"y_actual\"])**2\n",
    "data[\"SST\"]=(data[\"y_actual\"]-np.mean(y_act))**2"
   ]
  },
  {
   "cell_type": "code",
   "execution_count": 16,
   "metadata": {},
   "outputs": [
    {
     "data": {
      "text/html": [
       "<div>\n",
       "<style scoped>\n",
       "    .dataframe tbody tr th:only-of-type {\n",
       "        vertical-align: middle;\n",
       "    }\n",
       "\n",
       "    .dataframe tbody tr th {\n",
       "        vertical-align: top;\n",
       "    }\n",
       "\n",
       "    .dataframe thead th {\n",
       "        text-align: right;\n",
       "    }\n",
       "</style>\n",
       "<table border=\"1\" class=\"dataframe\">\n",
       "  <thead>\n",
       "    <tr style=\"text-align: right;\">\n",
       "      <th></th>\n",
       "      <th>x</th>\n",
       "      <th>y_actual</th>\n",
       "      <th>y_prediccion</th>\n",
       "      <th>SSR</th>\n",
       "      <th>SSD</th>\n",
       "      <th>SST</th>\n",
       "    </tr>\n",
       "  </thead>\n",
       "  <tbody>\n",
       "    <tr>\n",
       "      <th>0</th>\n",
       "      <td>1.824888</td>\n",
       "      <td>8.088158</td>\n",
       "      <td>8.467286</td>\n",
       "      <td>1.393338</td>\n",
       "      <td>0.143738</td>\n",
       "      <td>0.642033</td>\n",
       "    </tr>\n",
       "    <tr>\n",
       "      <th>1</th>\n",
       "      <td>2.587756</td>\n",
       "      <td>10.398467</td>\n",
       "      <td>9.916737</td>\n",
       "      <td>6.916098</td>\n",
       "      <td>0.232064</td>\n",
       "      <td>9.681919</td>\n",
       "    </tr>\n",
       "    <tr>\n",
       "      <th>2</th>\n",
       "      <td>1.189378</td>\n",
       "      <td>8.711310</td>\n",
       "      <td>7.259818</td>\n",
       "      <td>0.000733</td>\n",
       "      <td>2.106827</td>\n",
       "      <td>2.028974</td>\n",
       "    </tr>\n",
       "    <tr>\n",
       "      <th>3</th>\n",
       "      <td>5.023783</td>\n",
       "      <td>15.046272</td>\n",
       "      <td>14.545187</td>\n",
       "      <td>52.682895</td>\n",
       "      <td>0.251085</td>\n",
       "      <td>60.208019</td>\n",
       "    </tr>\n",
       "    <tr>\n",
       "      <th>4</th>\n",
       "      <td>0.683970</td>\n",
       "      <td>6.288353</td>\n",
       "      <td>6.299543</td>\n",
       "      <td>0.974852</td>\n",
       "      <td>0.000125</td>\n",
       "      <td>0.997074</td>\n",
       "    </tr>\n",
       "  </tbody>\n",
       "</table>\n",
       "</div>"
      ],
      "text/plain": [
       "          x   y_actual  y_prediccion        SSR       SSD        SST\n",
       "0  1.824888   8.088158      8.467286   1.393338  0.143738   0.642033\n",
       "1  2.587756  10.398467      9.916737   6.916098  0.232064   9.681919\n",
       "2  1.189378   8.711310      7.259818   0.000733  2.106827   2.028974\n",
       "3  5.023783  15.046272     14.545187  52.682895  0.251085  60.208019\n",
       "4  0.683970   6.288353      6.299543   0.974852  0.000125   0.997074"
      ]
     },
     "execution_count": 16,
     "metadata": {},
     "output_type": "execute_result"
    }
   ],
   "source": [
    "data.head()"
   ]
  },
  {
   "cell_type": "code",
   "execution_count": 17,
   "metadata": {},
   "outputs": [],
   "source": [
    "SSR = sum(data[\"SSR\"])\n",
    "SSD = sum(data[\"SSD\"])\n",
    "SST = sum(data[\"SST\"])"
   ]
  },
  {
   "cell_type": "code",
   "execution_count": 18,
   "metadata": {},
   "outputs": [
    {
     "data": {
      "text/plain": [
       "2158.8839418572084"
      ]
     },
     "execution_count": 18,
     "metadata": {},
     "output_type": "execute_result"
    }
   ],
   "source": [
    "SSR"
   ]
  },
  {
   "cell_type": "code",
   "execution_count": 19,
   "metadata": {},
   "outputs": [
    {
     "data": {
      "text/plain": [
       "40.830909697516184"
      ]
     },
     "execution_count": 19,
     "metadata": {},
     "output_type": "execute_result"
    }
   ],
   "source": [
    "SSD"
   ]
  },
  {
   "cell_type": "code",
   "execution_count": 20,
   "metadata": {},
   "outputs": [
    {
     "data": {
      "text/plain": [
       "2134.7681286324955"
      ]
     },
     "execution_count": 20,
     "metadata": {},
     "output_type": "execute_result"
    }
   ],
   "source": [
    "SST"
   ]
  },
  {
   "cell_type": "code",
   "execution_count": 21,
   "metadata": {},
   "outputs": [
    {
     "data": {
      "text/plain": [
       "2199.7148515547246"
      ]
     },
     "execution_count": 21,
     "metadata": {},
     "output_type": "execute_result"
    }
   ],
   "source": [
    "SSR + SSD"
   ]
  },
  {
   "cell_type": "code",
   "execution_count": 22,
   "metadata": {},
   "outputs": [],
   "source": [
    "R2 = SSR/SST"
   ]
  },
  {
   "cell_type": "code",
   "execution_count": 24,
   "metadata": {},
   "outputs": [
    {
     "data": {
      "text/plain": [
       "1.0112966897440805"
      ]
     },
     "execution_count": 24,
     "metadata": {},
     "output_type": "execute_result"
    }
   ],
   "source": [
    "R2"
   ]
  },
  {
   "cell_type": "code",
   "execution_count": 25,
   "metadata": {},
   "outputs": [
    {
     "data": {
      "text/plain": [
       "(array([ 3.,  6., 12., 18., 20., 19., 11.,  7.,  1.,  3.]),\n",
       " array([-1.47353945, -1.15487153, -0.83620362, -0.5175357 , -0.19886779,\n",
       "         0.11980012,  0.43846804,  0.75713595,  1.07580386,  1.39447178,\n",
       "         1.71313969]),\n",
       " <a list of 10 Patch objects>)"
      ]
     },
     "execution_count": 25,
     "metadata": {},
     "output_type": "execute_result"
    },
    {
     "data": {
      "image/png": "[encoded data removed]",
      "text/plain": [
       "<Figure size 432x288 with 1 Axes>"
      ]
     },
     "metadata": {
      "needs_background": "light"
     },
     "output_type": "display_data"
    }
   ],
   "source": [
    "plt.hist(data[\"y_prediccion\"]-data[\"y_actual\"])"
   ]
  },
  {
   "cell_type": "markdown",
   "metadata": {},
   "source": [
    "### Obteniendo la recta de regresion \n",
    "* formula y = a + b * x\n",
    "\n",
    "* b = suma((xi - x_m) * (y_i - y_m)) / suma((xi - x_m)^2)\n",
    "\n",
    "* a = y_m - b * x_m"
   ]
  },
  {
   "cell_type": "code",
   "execution_count": 42,
   "metadata": {},
   "outputs": [
    {
     "data": {
      "text/plain": [
       "(1.1940136603865132, 7.286889090885005)"
      ]
     },
     "execution_count": 42,
     "metadata": {},
     "output_type": "execute_result"
    }
   ],
   "source": [
    "x_mean = np.mean(data[\"x\"])\n",
    "y_mean = np.mean(data[\"y_actual\"])\n",
    "x_mean, y_mean"
   ]
  },
  {
   "cell_type": "code",
   "execution_count": 43,
   "metadata": {},
   "outputs": [],
   "source": [
    "data[\"beta_n\"] = (data[\"x\"]-x_mean) *(data[\"y_actual\"]-y_mean)\n",
    "data[\"beta_d\"] = (data[\"x\"]-x_mean)**2"
   ]
  },
  {
   "cell_type": "code",
   "execution_count": 44,
   "metadata": {},
   "outputs": [],
   "source": [
    "beta = sum(data[\"beta_n\"])/sum(data[\"beta_d\"])"
   ]
  },
  {
   "cell_type": "code",
   "execution_count": 45,
   "metadata": {},
   "outputs": [],
   "source": [
    "alpha = y_mean - beta * x_mean"
   ]
  },
  {
   "cell_type": "code",
   "execution_count": 47,
   "metadata": {},
   "outputs": [
    {
     "data": {
      "text/plain": [
       "(1.8714496157715022, 5.05235268492874)"
      ]
     },
     "execution_count": 47,
     "metadata": {},
     "output_type": "execute_result"
    }
   ],
   "source": [
    "beta, alpha"
   ]
  },
  {
   "cell_type": "markdown",
   "metadata": {},
   "source": [
    "El modelo lineal obtenido por regresion es y = (8.700645116238157 + 1.8714496157715022 * x)"
   ]
  },
  {
   "cell_type": "code",
   "execution_count": 48,
   "metadata": {},
   "outputs": [],
   "source": [
    "data[\"y_model\"] = alpha + beta * data[\"x\"]"
   ]
  },
  {
   "cell_type": "code",
   "execution_count": 49,
   "metadata": {},
   "outputs": [
    {
     "data": {
      "text/html": [
       "<div>\n",
       "<style scoped>\n",
       "    .dataframe tbody tr th:only-of-type {\n",
       "        vertical-align: middle;\n",
       "    }\n",
       "\n",
       "    .dataframe tbody tr th {\n",
       "        vertical-align: top;\n",
       "    }\n",
       "\n",
       "    .dataframe thead th {\n",
       "        text-align: right;\n",
       "    }\n",
       "</style>\n",
       "<table border=\"1\" class=\"dataframe\">\n",
       "  <thead>\n",
       "    <tr style=\"text-align: right;\">\n",
       "      <th></th>\n",
       "      <th>x</th>\n",
       "      <th>y_actual</th>\n",
       "      <th>y_prediccion</th>\n",
       "      <th>SSR</th>\n",
       "      <th>SSD</th>\n",
       "      <th>SST</th>\n",
       "      <th>beta_n</th>\n",
       "      <th>beta_d</th>\n",
       "      <th>y_model</th>\n",
       "    </tr>\n",
       "  </thead>\n",
       "  <tbody>\n",
       "    <tr>\n",
       "      <th>0</th>\n",
       "      <td>1.824888</td>\n",
       "      <td>8.088158</td>\n",
       "      <td>8.467286</td>\n",
       "      <td>1.393338</td>\n",
       "      <td>0.143738</td>\n",
       "      <td>0.642033</td>\n",
       "      <td>0.505500</td>\n",
       "      <td>0.398002</td>\n",
       "      <td>8.467538</td>\n",
       "    </tr>\n",
       "    <tr>\n",
       "      <th>1</th>\n",
       "      <td>2.587756</td>\n",
       "      <td>10.398467</td>\n",
       "      <td>9.916737</td>\n",
       "      <td>6.916098</td>\n",
       "      <td>0.232064</td>\n",
       "      <td>9.681919</td>\n",
       "      <td>4.336739</td>\n",
       "      <td>1.942518</td>\n",
       "      <td>9.895208</td>\n",
       "    </tr>\n",
       "    <tr>\n",
       "      <th>2</th>\n",
       "      <td>1.189378</td>\n",
       "      <td>8.711310</td>\n",
       "      <td>7.259818</td>\n",
       "      <td>0.000733</td>\n",
       "      <td>2.106827</td>\n",
       "      <td>2.028974</td>\n",
       "      <td>-0.006603</td>\n",
       "      <td>0.000021</td>\n",
       "      <td>7.278214</td>\n",
       "    </tr>\n",
       "    <tr>\n",
       "      <th>3</th>\n",
       "      <td>5.023783</td>\n",
       "      <td>15.046272</td>\n",
       "      <td>14.545187</td>\n",
       "      <td>52.682895</td>\n",
       "      <td>0.251085</td>\n",
       "      <td>60.208019</td>\n",
       "      <td>29.716645</td>\n",
       "      <td>14.667132</td>\n",
       "      <td>14.454109</td>\n",
       "    </tr>\n",
       "    <tr>\n",
       "      <th>4</th>\n",
       "      <td>0.683970</td>\n",
       "      <td>6.288353</td>\n",
       "      <td>6.299543</td>\n",
       "      <td>0.974852</td>\n",
       "      <td>0.000125</td>\n",
       "      <td>0.997074</td>\n",
       "      <td>0.509297</td>\n",
       "      <td>0.260144</td>\n",
       "      <td>6.332368</td>\n",
       "    </tr>\n",
       "  </tbody>\n",
       "</table>\n",
       "</div>"
      ],
      "text/plain": [
       "          x   y_actual  y_prediccion        SSR       SSD        SST  \\\n",
       "0  1.824888   8.088158      8.467286   1.393338  0.143738   0.642033   \n",
       "1  2.587756  10.398467      9.916737   6.916098  0.232064   9.681919   \n",
       "2  1.189378   8.711310      7.259818   0.000733  2.106827   2.028974   \n",
       "3  5.023783  15.046272     14.545187  52.682895  0.251085  60.208019   \n",
       "4  0.683970   6.288353      6.299543   0.974852  0.000125   0.997074   \n",
       "\n",
       "      beta_n     beta_d    y_model  \n",
       "0   0.505500   0.398002   8.467538  \n",
       "1   4.336739   1.942518   9.895208  \n",
       "2  -0.006603   0.000021   7.278214  \n",
       "3  29.716645  14.667132  14.454109  \n",
       "4   0.509297   0.260144   6.332368  "
      ]
     },
     "execution_count": 49,
     "metadata": {},
     "output_type": "execute_result"
    }
   ],
   "source": [
    "data.head()"
   ]
  },
  {
   "cell_type": "code",
   "execution_count": 50,
   "metadata": {},
   "outputs": [],
   "source": [
    "SSR = sum((data[\"y_model\"]-y_mean)**2)\n",
    "SSD = sum((data[\"y_model\"]-data[\"y_actual\"])**2)\n",
    "SST = sum((data[\"y_actual\"]-y_mean)**2)"
   ]
  },
  {
   "cell_type": "code",
   "execution_count": 51,
   "metadata": {},
   "outputs": [
    {
     "data": {
      "text/plain": [
       "(2094.458033502489, 40.31009513000818, 2134.7681286324955)"
      ]
     },
     "execution_count": 51,
     "metadata": {},
     "output_type": "execute_result"
    }
   ],
   "source": [
    "SSR, SSD, SST"
   ]
  },
  {
   "cell_type": "code",
   "execution_count": 52,
   "metadata": {},
   "outputs": [
    {
     "data": {
      "text/plain": [
       "0.9811173426334462"
      ]
     },
     "execution_count": 52,
     "metadata": {},
     "output_type": "execute_result"
    }
   ],
   "source": [
    "R2 = SSR /SST\n",
    "R2"
   ]
  },
  {
   "cell_type": "code",
   "execution_count": 53,
   "metadata": {},
   "outputs": [
    {
     "data": {
      "text/plain": [
       "Text(0.5, 1.0, 'Valor Actual vs Prediccion')"
      ]
     },
     "execution_count": 53,
     "metadata": {},
     "output_type": "execute_result"
    },
    {
     "data": {
      "image/png": "[encoded data removed]",
      "text/plain": [
       "<Figure size 432x288 with 1 Axes>"
      ]
     },
     "metadata": {
      "needs_background": "light"
     },
     "output_type": "display_data"
    }
   ],
   "source": [
    "y_mean = [np.mean(y_act) for i in range(1, len(x_list) +1)]\n",
    "%matplotlib inline\n",
    "plt.plot(data[\"x\"], data[\"y_prediccion\"])\n",
    "plt.plot(data[\"x\"], data[\"y_actual\"], \"ro\")\n",
    "plt.plot(data[\"x\"], y_mean, \"g\")\n",
    "plt.plot(data[\"x\"], data[\"y_model\"])\n",
    "plt.title(\"Valor Actual vs Prediccion\")"
   ]
  },
  {
   "cell_type": "markdown",
   "metadata": {},
   "source": [
    "## El p valor\n",
    "###### El modelo presenta una relacion lineal entre x e y \n",
    "###### Ye = alpha + beta * x "
   ]
  },
  {
   "cell_type": "markdown",
   "metadata": {},
   "source": [
    "## El estadistico F\n",
    "##### Ye = alpha + suma Betai xi \n",
    "\n",
    "###### F = (SSR / k) / (SSD / n - k - 1)     p = P( F > F k, n - k -1)\n",
    "\n",
    "### SST = suma( yi - y_mean)^2\n",
    "### SSR = suma(y(xi) - y_mean)^2\n",
    "### SSD = suma(yi - y(xi))^2"
   ]
  },
  {
   "cell_type": "markdown",
   "metadata": {},
   "source": [
    "## El error estandar residual\n",
    "###### Regresion lineal simple\n",
    "##### RSE = V (suma(yi - y (xi))^2) / n -2  =  V  SSD / n - 2\n",
    "###### Regresion lineal multiple\n",
    "##### RSE = V SSD / (n - k - 1) \n"
   ]
  },
  {
   "cell_type": "code",
   "execution_count": 55,
   "metadata": {},
   "outputs": [
    {
     "data": {
      "text/plain": [
       "0.6413481903978634"
      ]
     },
     "execution_count": 55,
     "metadata": {},
     "output_type": "execute_result"
    }
   ],
   "source": [
    "RSE =  np.sqrt(SSD / (len(data)-2))\n",
    "RSE"
   ]
  },
  {
   "cell_type": "code",
   "execution_count": 56,
   "metadata": {},
   "outputs": [
    {
     "data": {
      "text/plain": [
       "7.286889090885005"
      ]
     },
     "execution_count": 56,
     "metadata": {},
     "output_type": "execute_result"
    }
   ],
   "source": [
    "np.mean(data[\"y_actual\"])"
   ]
  },
  {
   "cell_type": "code",
   "execution_count": 57,
   "metadata": {},
   "outputs": [
    {
     "data": {
      "text/plain": [
       "0.0880139909361473"
      ]
     },
     "execution_count": 57,
     "metadata": {},
     "output_type": "execute_result"
    }
   ],
   "source": [
    "RSE /np.mean(data[\"y_actual\"])"
   ]
  },
  {
   "cell_type": "code",
   "execution_count": null,
   "metadata": {},
   "outputs": [],
   "source": []
  }
 ],
 "metadata": {
  "kernelspec": {
   "display_name": "Python 3",
   "language": "python",
   "name": "python3"
  },
  "language_info": {
   "codemirror_mode": {
    "name": "ipython",
    "version": 3
   },
   "file_extension": ".py",
   "mimetype": "text/x-python",
   "name": "python",
   "nbconvert_exporter": "python",
   "pygments_lexer": "ipython3",
   "version": "3.7.7"
  }
 },
 "nbformat": 4,
 "nbformat_minor": 4
}
