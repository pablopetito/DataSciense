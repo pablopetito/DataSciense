{
 "cells": [
  {
   "cell_type": "markdown",
   "metadata": {},
   "source": [
    "#### PLOTS y VISUALIZACION DE LOS DATOS"
   ]
  },
  {
   "cell_type": "code",
   "execution_count": 46,
   "metadata": {},
   "outputs": [],
   "source": [
    "import pandas as pd\n",
    "import numpy as np\n",
    "import os"
   ]
  },
  {
   "cell_type": "code",
   "execution_count": 5,
   "metadata": {},
   "outputs": [],
   "source": [
    "miPath = \"/Users/User/Documents/Udemy-Cursos/DataScience-Python/python-ml-course/datasets\"\n",
    "miArchivo = \"titanic/titanic3.csv\"\n",
    "fullPath = os.path.join(miPath, miArchivo)\n",
    "\n",
    "urlData = \"https://raw.githubusercontent.com/joanby/python-ml-course/master/datasets/titanic/titanic3.csv\"\n",
    "\n",
    "miArchivo2 = \"customer-churn-model/Customer churn model.txt\"\n",
    "fullPath = os.path.join(miPath, miArchivo2)"
   ]
  },
  {
   "cell_type": "code",
   "execution_count": 3,
   "metadata": {},
   "outputs": [
    {
     "name": "stdout",
     "output_type": "stream",
     "text": [
      "WARNING *** OLE2 inconsistency: SSCS size is 0 but SSAT size is non-zero\n"
     ]
    }
   ],
   "source": [
    "# leer planilla excel \n",
    "miPath = \"/Users/User/Documents/Udemy-Cursos/DataScience-Python/datasets\"\n",
    "miArchivo = \"Prorrateos-Mazro2020.xls\"\n",
    "fullPath = os.path.join(miPath, miArchivo)\n",
    "expensas = pd.read_excel(miPath + \"/\" + miArchivo, \"Prorrateos\")"
   ]
  },
  {
   "cell_type": "code",
   "execution_count": 6,
   "metadata": {},
   "outputs": [],
   "source": [
    "data = pd.read_csv(fullPath)"
   ]
  },
  {
   "cell_type": "code",
   "execution_count": 7,
   "metadata": {},
   "outputs": [
    {
     "data": {
      "text/html": [
       "<div>\n",
       "<style scoped>\n",
       "    .dataframe tbody tr th:only-of-type {\n",
       "        vertical-align: middle;\n",
       "    }\n",
       "\n",
       "    .dataframe tbody tr th {\n",
       "        vertical-align: top;\n",
       "    }\n",
       "\n",
       "    .dataframe thead th {\n",
       "        text-align: right;\n",
       "    }\n",
       "</style>\n",
       "<table border=\"1\" class=\"dataframe\">\n",
       "  <thead>\n",
       "    <tr style=\"text-align: right;\">\n",
       "      <th></th>\n",
       "      <th>State</th>\n",
       "      <th>Account Length</th>\n",
       "      <th>Area Code</th>\n",
       "      <th>Phone</th>\n",
       "      <th>Int'l Plan</th>\n",
       "      <th>VMail Plan</th>\n",
       "      <th>VMail Message</th>\n",
       "      <th>Day Mins</th>\n",
       "      <th>Day Calls</th>\n",
       "      <th>Day Charge</th>\n",
       "      <th>...</th>\n",
       "      <th>Eve Calls</th>\n",
       "      <th>Eve Charge</th>\n",
       "      <th>Night Mins</th>\n",
       "      <th>Night Calls</th>\n",
       "      <th>Night Charge</th>\n",
       "      <th>Intl Mins</th>\n",
       "      <th>Intl Calls</th>\n",
       "      <th>Intl Charge</th>\n",
       "      <th>CustServ Calls</th>\n",
       "      <th>Churn?</th>\n",
       "    </tr>\n",
       "  </thead>\n",
       "  <tbody>\n",
       "    <tr>\n",
       "      <th>0</th>\n",
       "      <td>KS</td>\n",
       "      <td>128</td>\n",
       "      <td>415</td>\n",
       "      <td>382-4657</td>\n",
       "      <td>no</td>\n",
       "      <td>yes</td>\n",
       "      <td>25</td>\n",
       "      <td>265.1</td>\n",
       "      <td>110</td>\n",
       "      <td>45.07</td>\n",
       "      <td>...</td>\n",
       "      <td>99</td>\n",
       "      <td>16.78</td>\n",
       "      <td>244.7</td>\n",
       "      <td>91</td>\n",
       "      <td>11.01</td>\n",
       "      <td>10.0</td>\n",
       "      <td>3</td>\n",
       "      <td>2.70</td>\n",
       "      <td>1</td>\n",
       "      <td>False.</td>\n",
       "    </tr>\n",
       "    <tr>\n",
       "      <th>1</th>\n",
       "      <td>OH</td>\n",
       "      <td>107</td>\n",
       "      <td>415</td>\n",
       "      <td>371-7191</td>\n",
       "      <td>no</td>\n",
       "      <td>yes</td>\n",
       "      <td>26</td>\n",
       "      <td>161.6</td>\n",
       "      <td>123</td>\n",
       "      <td>27.47</td>\n",
       "      <td>...</td>\n",
       "      <td>103</td>\n",
       "      <td>16.62</td>\n",
       "      <td>254.4</td>\n",
       "      <td>103</td>\n",
       "      <td>11.45</td>\n",
       "      <td>13.7</td>\n",
       "      <td>3</td>\n",
       "      <td>3.70</td>\n",
       "      <td>1</td>\n",
       "      <td>False.</td>\n",
       "    </tr>\n",
       "    <tr>\n",
       "      <th>2</th>\n",
       "      <td>NJ</td>\n",
       "      <td>137</td>\n",
       "      <td>415</td>\n",
       "      <td>358-1921</td>\n",
       "      <td>no</td>\n",
       "      <td>no</td>\n",
       "      <td>0</td>\n",
       "      <td>243.4</td>\n",
       "      <td>114</td>\n",
       "      <td>41.38</td>\n",
       "      <td>...</td>\n",
       "      <td>110</td>\n",
       "      <td>10.30</td>\n",
       "      <td>162.6</td>\n",
       "      <td>104</td>\n",
       "      <td>7.32</td>\n",
       "      <td>12.2</td>\n",
       "      <td>5</td>\n",
       "      <td>3.29</td>\n",
       "      <td>0</td>\n",
       "      <td>False.</td>\n",
       "    </tr>\n",
       "    <tr>\n",
       "      <th>3</th>\n",
       "      <td>OH</td>\n",
       "      <td>84</td>\n",
       "      <td>408</td>\n",
       "      <td>375-9999</td>\n",
       "      <td>yes</td>\n",
       "      <td>no</td>\n",
       "      <td>0</td>\n",
       "      <td>299.4</td>\n",
       "      <td>71</td>\n",
       "      <td>50.90</td>\n",
       "      <td>...</td>\n",
       "      <td>88</td>\n",
       "      <td>5.26</td>\n",
       "      <td>196.9</td>\n",
       "      <td>89</td>\n",
       "      <td>8.86</td>\n",
       "      <td>6.6</td>\n",
       "      <td>7</td>\n",
       "      <td>1.78</td>\n",
       "      <td>2</td>\n",
       "      <td>False.</td>\n",
       "    </tr>\n",
       "    <tr>\n",
       "      <th>4</th>\n",
       "      <td>OK</td>\n",
       "      <td>75</td>\n",
       "      <td>415</td>\n",
       "      <td>330-6626</td>\n",
       "      <td>yes</td>\n",
       "      <td>no</td>\n",
       "      <td>0</td>\n",
       "      <td>166.7</td>\n",
       "      <td>113</td>\n",
       "      <td>28.34</td>\n",
       "      <td>...</td>\n",
       "      <td>122</td>\n",
       "      <td>12.61</td>\n",
       "      <td>186.9</td>\n",
       "      <td>121</td>\n",
       "      <td>8.41</td>\n",
       "      <td>10.1</td>\n",
       "      <td>3</td>\n",
       "      <td>2.73</td>\n",
       "      <td>3</td>\n",
       "      <td>False.</td>\n",
       "    </tr>\n",
       "  </tbody>\n",
       "</table>\n",
       "<p>5 rows × 21 columns</p>\n",
       "</div>"
      ],
      "text/plain": [
       "  State  Account Length  Area Code     Phone Int'l Plan VMail Plan  \\\n",
       "0    KS             128        415  382-4657         no        yes   \n",
       "1    OH             107        415  371-7191         no        yes   \n",
       "2    NJ             137        415  358-1921         no         no   \n",
       "3    OH              84        408  375-9999        yes         no   \n",
       "4    OK              75        415  330-6626        yes         no   \n",
       "\n",
       "   VMail Message  Day Mins  Day Calls  Day Charge  ...  Eve Calls  Eve Charge  \\\n",
       "0             25     265.1        110       45.07  ...         99       16.78   \n",
       "1             26     161.6        123       27.47  ...        103       16.62   \n",
       "2              0     243.4        114       41.38  ...        110       10.30   \n",
       "3              0     299.4         71       50.90  ...         88        5.26   \n",
       "4              0     166.7        113       28.34  ...        122       12.61   \n",
       "\n",
       "   Night Mins  Night Calls  Night Charge  Intl Mins  Intl Calls  Intl Charge  \\\n",
       "0       244.7           91         11.01       10.0           3         2.70   \n",
       "1       254.4          103         11.45       13.7           3         3.70   \n",
       "2       162.6          104          7.32       12.2           5         3.29   \n",
       "3       196.9           89          8.86        6.6           7         1.78   \n",
       "4       186.9          121          8.41       10.1           3         2.73   \n",
       "\n",
       "   CustServ Calls  Churn?  \n",
       "0               1  False.  \n",
       "1               1  False.  \n",
       "2               0  False.  \n",
       "3               2  False.  \n",
       "4               3  False.  \n",
       "\n",
       "[5 rows x 21 columns]"
      ]
     },
     "execution_count": 7,
     "metadata": {},
     "output_type": "execute_result"
    }
   ],
   "source": [
    "data.head()"
   ]
  },
  {
   "cell_type": "code",
   "execution_count": 16,
   "metadata": {},
   "outputs": [],
   "source": [
    "import matplotlib as mp\n",
    "import matplotlib.pyplot as plt \n"
   ]
  },
  {
   "cell_type": "markdown",
   "metadata": {},
   "source": [
    "##### savefig(\"path_donde_guardar.img.jpeg\")"
   ]
  },
  {
   "cell_type": "markdown",
   "metadata": {},
   "source": [
    "###### Scatter Plot - nube de puntos"
   ]
  },
  {
   "cell_type": "code",
   "execution_count": 10,
   "metadata": {},
   "outputs": [
    {
     "data": {
      "text/plain": [
       "<matplotlib.axes._subplots.AxesSubplot at 0x26843397f48>"
      ]
     },
     "execution_count": 10,
     "metadata": {},
     "output_type": "execute_result"
    },
    {
     "data": {
      "image/png": "[encoded data removed]",
      "text/plain": [
       "<Figure size 432x288 with 1 Axes>"
      ]
     },
     "metadata": {
      "needs_background": "light"
     },
     "output_type": "display_data"
    }
   ],
   "source": [
    "data.plot(kind=\"scatter\", x=\"Day Mins\", y=\"Day Charge\")"
   ]
  },
  {
   "cell_type": "code",
   "execution_count": 47,
   "metadata": {},
   "outputs": [
    {
     "data": {
      "text/html": [
       "<div>\n",
       "<style scoped>\n",
       "    .dataframe tbody tr th:only-of-type {\n",
       "        vertical-align: middle;\n",
       "    }\n",
       "\n",
       "    .dataframe tbody tr th {\n",
       "        vertical-align: top;\n",
       "    }\n",
       "\n",
       "    .dataframe thead th {\n",
       "        text-align: right;\n",
       "    }\n",
       "</style>\n",
       "<table border=\"1\" class=\"dataframe\">\n",
       "  <thead>\n",
       "    <tr style=\"text-align: right;\">\n",
       "      <th></th>\n",
       "      <th>Codigo Prorrateo</th>\n",
       "      <th>Codigo Unidad</th>\n",
       "      <th>Codigo Consorcio</th>\n",
       "      <th>Fecha Prorrateo</th>\n",
       "      <th>Exp A</th>\n",
       "      <th>Exp B</th>\n",
       "      <th>Exp C</th>\n",
       "      <th>Exp D</th>\n",
       "      <th>F Reserva</th>\n",
       "      <th>Adicional</th>\n",
       "      <th>...</th>\n",
       "      <th>Cob Exp B</th>\n",
       "      <th>Cob Exp C</th>\n",
       "      <th>Cob Exp D</th>\n",
       "      <th>Cob F Reserva</th>\n",
       "      <th>Cob Adicional</th>\n",
       "      <th>Cob Particular</th>\n",
       "      <th>Cob Deuda</th>\n",
       "      <th>Cob Interes</th>\n",
       "      <th>Cob Segundo Interes</th>\n",
       "      <th>Su pago Anterior</th>\n",
       "    </tr>\n",
       "  </thead>\n",
       "  <tbody>\n",
       "    <tr>\n",
       "      <th>0</th>\n",
       "      <td>104011</td>\n",
       "      <td>20</td>\n",
       "      <td>3</td>\n",
       "      <td>2015-01-01</td>\n",
       "      <td>0</td>\n",
       "      <td>0</td>\n",
       "      <td>0</td>\n",
       "      <td>0</td>\n",
       "      <td>0</td>\n",
       "      <td>0</td>\n",
       "      <td>...</td>\n",
       "      <td>0</td>\n",
       "      <td>0.0</td>\n",
       "      <td>0</td>\n",
       "      <td>0</td>\n",
       "      <td>0</td>\n",
       "      <td>0</td>\n",
       "      <td>0</td>\n",
       "      <td>0</td>\n",
       "      <td>0</td>\n",
       "      <td>0</td>\n",
       "    </tr>\n",
       "    <tr>\n",
       "      <th>1</th>\n",
       "      <td>104012</td>\n",
       "      <td>21</td>\n",
       "      <td>3</td>\n",
       "      <td>2015-01-01</td>\n",
       "      <td>0</td>\n",
       "      <td>0</td>\n",
       "      <td>0</td>\n",
       "      <td>0</td>\n",
       "      <td>0</td>\n",
       "      <td>0</td>\n",
       "      <td>...</td>\n",
       "      <td>0</td>\n",
       "      <td>0.0</td>\n",
       "      <td>0</td>\n",
       "      <td>0</td>\n",
       "      <td>0</td>\n",
       "      <td>0</td>\n",
       "      <td>0</td>\n",
       "      <td>0</td>\n",
       "      <td>0</td>\n",
       "      <td>0</td>\n",
       "    </tr>\n",
       "    <tr>\n",
       "      <th>2</th>\n",
       "      <td>104013</td>\n",
       "      <td>22</td>\n",
       "      <td>3</td>\n",
       "      <td>2015-01-01</td>\n",
       "      <td>0</td>\n",
       "      <td>0</td>\n",
       "      <td>0</td>\n",
       "      <td>0</td>\n",
       "      <td>0</td>\n",
       "      <td>0</td>\n",
       "      <td>...</td>\n",
       "      <td>0</td>\n",
       "      <td>0.0</td>\n",
       "      <td>0</td>\n",
       "      <td>0</td>\n",
       "      <td>0</td>\n",
       "      <td>0</td>\n",
       "      <td>0</td>\n",
       "      <td>0</td>\n",
       "      <td>0</td>\n",
       "      <td>0</td>\n",
       "    </tr>\n",
       "    <tr>\n",
       "      <th>3</th>\n",
       "      <td>104014</td>\n",
       "      <td>23</td>\n",
       "      <td>3</td>\n",
       "      <td>2015-01-01</td>\n",
       "      <td>0</td>\n",
       "      <td>0</td>\n",
       "      <td>0</td>\n",
       "      <td>0</td>\n",
       "      <td>0</td>\n",
       "      <td>0</td>\n",
       "      <td>...</td>\n",
       "      <td>0</td>\n",
       "      <td>0.0</td>\n",
       "      <td>0</td>\n",
       "      <td>0</td>\n",
       "      <td>0</td>\n",
       "      <td>0</td>\n",
       "      <td>0</td>\n",
       "      <td>0</td>\n",
       "      <td>0</td>\n",
       "      <td>0</td>\n",
       "    </tr>\n",
       "    <tr>\n",
       "      <th>4</th>\n",
       "      <td>104015</td>\n",
       "      <td>24</td>\n",
       "      <td>3</td>\n",
       "      <td>2015-01-01</td>\n",
       "      <td>0</td>\n",
       "      <td>0</td>\n",
       "      <td>0</td>\n",
       "      <td>0</td>\n",
       "      <td>0</td>\n",
       "      <td>0</td>\n",
       "      <td>...</td>\n",
       "      <td>0</td>\n",
       "      <td>0.0</td>\n",
       "      <td>0</td>\n",
       "      <td>0</td>\n",
       "      <td>0</td>\n",
       "      <td>0</td>\n",
       "      <td>0</td>\n",
       "      <td>0</td>\n",
       "      <td>0</td>\n",
       "      <td>0</td>\n",
       "    </tr>\n",
       "    <tr>\n",
       "      <th>...</th>\n",
       "      <td>...</td>\n",
       "      <td>...</td>\n",
       "      <td>...</td>\n",
       "      <td>...</td>\n",
       "      <td>...</td>\n",
       "      <td>...</td>\n",
       "      <td>...</td>\n",
       "      <td>...</td>\n",
       "      <td>...</td>\n",
       "      <td>...</td>\n",
       "      <td>...</td>\n",
       "      <td>...</td>\n",
       "      <td>...</td>\n",
       "      <td>...</td>\n",
       "      <td>...</td>\n",
       "      <td>...</td>\n",
       "      <td>...</td>\n",
       "      <td>...</td>\n",
       "      <td>...</td>\n",
       "      <td>...</td>\n",
       "      <td>...</td>\n",
       "    </tr>\n",
       "    <tr>\n",
       "      <th>26466</th>\n",
       "      <td>133050</td>\n",
       "      <td>1668</td>\n",
       "      <td>126</td>\n",
       "      <td>2020-02-01</td>\n",
       "      <td>2528</td>\n",
       "      <td>501</td>\n",
       "      <td>163</td>\n",
       "      <td>0</td>\n",
       "      <td>0</td>\n",
       "      <td>0</td>\n",
       "      <td>...</td>\n",
       "      <td>0</td>\n",
       "      <td>0.0</td>\n",
       "      <td>0</td>\n",
       "      <td>0</td>\n",
       "      <td>0</td>\n",
       "      <td>0</td>\n",
       "      <td>0</td>\n",
       "      <td>0</td>\n",
       "      <td>0</td>\n",
       "      <td>3012</td>\n",
       "    </tr>\n",
       "    <tr>\n",
       "      <th>26467</th>\n",
       "      <td>133051</td>\n",
       "      <td>1669</td>\n",
       "      <td>126</td>\n",
       "      <td>2020-02-01</td>\n",
       "      <td>2472</td>\n",
       "      <td>490</td>\n",
       "      <td>163</td>\n",
       "      <td>0</td>\n",
       "      <td>0</td>\n",
       "      <td>0</td>\n",
       "      <td>...</td>\n",
       "      <td>490</td>\n",
       "      <td>163.0</td>\n",
       "      <td>0</td>\n",
       "      <td>0</td>\n",
       "      <td>0</td>\n",
       "      <td>0</td>\n",
       "      <td>0</td>\n",
       "      <td>0</td>\n",
       "      <td>0</td>\n",
       "      <td>2949</td>\n",
       "    </tr>\n",
       "    <tr>\n",
       "      <th>26468</th>\n",
       "      <td>133052</td>\n",
       "      <td>1670</td>\n",
       "      <td>126</td>\n",
       "      <td>2020-02-01</td>\n",
       "      <td>2472</td>\n",
       "      <td>490</td>\n",
       "      <td>163</td>\n",
       "      <td>0</td>\n",
       "      <td>0</td>\n",
       "      <td>0</td>\n",
       "      <td>...</td>\n",
       "      <td>490</td>\n",
       "      <td>163.0</td>\n",
       "      <td>0</td>\n",
       "      <td>0</td>\n",
       "      <td>0</td>\n",
       "      <td>0</td>\n",
       "      <td>0</td>\n",
       "      <td>0</td>\n",
       "      <td>0</td>\n",
       "      <td>2949</td>\n",
       "    </tr>\n",
       "    <tr>\n",
       "      <th>26469</th>\n",
       "      <td>133053</td>\n",
       "      <td>1671</td>\n",
       "      <td>126</td>\n",
       "      <td>2020-02-01</td>\n",
       "      <td>2021</td>\n",
       "      <td>400</td>\n",
       "      <td>163</td>\n",
       "      <td>0</td>\n",
       "      <td>0</td>\n",
       "      <td>0</td>\n",
       "      <td>...</td>\n",
       "      <td>400</td>\n",
       "      <td>163.0</td>\n",
       "      <td>0</td>\n",
       "      <td>0</td>\n",
       "      <td>0</td>\n",
       "      <td>0</td>\n",
       "      <td>0</td>\n",
       "      <td>0</td>\n",
       "      <td>0</td>\n",
       "      <td>2441</td>\n",
       "    </tr>\n",
       "    <tr>\n",
       "      <th>26470</th>\n",
       "      <td>133054</td>\n",
       "      <td>1672</td>\n",
       "      <td>126</td>\n",
       "      <td>2020-02-01</td>\n",
       "      <td>2021</td>\n",
       "      <td>400</td>\n",
       "      <td>163</td>\n",
       "      <td>0</td>\n",
       "      <td>0</td>\n",
       "      <td>0</td>\n",
       "      <td>...</td>\n",
       "      <td>400</td>\n",
       "      <td>163.0</td>\n",
       "      <td>0</td>\n",
       "      <td>0</td>\n",
       "      <td>0</td>\n",
       "      <td>0</td>\n",
       "      <td>0</td>\n",
       "      <td>0</td>\n",
       "      <td>0</td>\n",
       "      <td>2441</td>\n",
       "    </tr>\n",
       "  </tbody>\n",
       "</table>\n",
       "<p>26471 rows × 25 columns</p>\n",
       "</div>"
      ],
      "text/plain": [
       "       Codigo Prorrateo  Codigo Unidad  Codigo Consorcio Fecha Prorrateo  \\\n",
       "0                104011             20                 3      2015-01-01   \n",
       "1                104012             21                 3      2015-01-01   \n",
       "2                104013             22                 3      2015-01-01   \n",
       "3                104014             23                 3      2015-01-01   \n",
       "4                104015             24                 3      2015-01-01   \n",
       "...                 ...            ...               ...             ...   \n",
       "26466            133050           1668               126      2020-02-01   \n",
       "26467            133051           1669               126      2020-02-01   \n",
       "26468            133052           1670               126      2020-02-01   \n",
       "26469            133053           1671               126      2020-02-01   \n",
       "26470            133054           1672               126      2020-02-01   \n",
       "\n",
       "       Exp A  Exp B  Exp C  Exp D  F Reserva  Adicional  ...  Cob Exp B  \\\n",
       "0          0      0      0      0          0          0  ...          0   \n",
       "1          0      0      0      0          0          0  ...          0   \n",
       "2          0      0      0      0          0          0  ...          0   \n",
       "3          0      0      0      0          0          0  ...          0   \n",
       "4          0      0      0      0          0          0  ...          0   \n",
       "...      ...    ...    ...    ...        ...        ...  ...        ...   \n",
       "26466   2528    501    163      0          0          0  ...          0   \n",
       "26467   2472    490    163      0          0          0  ...        490   \n",
       "26468   2472    490    163      0          0          0  ...        490   \n",
       "26469   2021    400    163      0          0          0  ...        400   \n",
       "26470   2021    400    163      0          0          0  ...        400   \n",
       "\n",
       "       Cob Exp C  Cob Exp D  Cob F Reserva  Cob Adicional  Cob Particular  \\\n",
       "0            0.0          0              0              0               0   \n",
       "1            0.0          0              0              0               0   \n",
       "2            0.0          0              0              0               0   \n",
       "3            0.0          0              0              0               0   \n",
       "4            0.0          0              0              0               0   \n",
       "...          ...        ...            ...            ...             ...   \n",
       "26466        0.0          0              0              0               0   \n",
       "26467      163.0          0              0              0               0   \n",
       "26468      163.0          0              0              0               0   \n",
       "26469      163.0          0              0              0               0   \n",
       "26470      163.0          0              0              0               0   \n",
       "\n",
       "       Cob Deuda  Cob Interes  Cob Segundo Interes  Su pago Anterior  \n",
       "0              0            0                    0                 0  \n",
       "1              0            0                    0                 0  \n",
       "2              0            0                    0                 0  \n",
       "3              0            0                    0                 0  \n",
       "4              0            0                    0                 0  \n",
       "...          ...          ...                  ...               ...  \n",
       "26466          0            0                    0              3012  \n",
       "26467          0            0                    0              2949  \n",
       "26468          0            0                    0              2949  \n",
       "26469          0            0                    0              2441  \n",
       "26470          0            0                    0              2441  \n",
       "\n",
       "[26471 rows x 25 columns]"
      ]
     },
     "execution_count": 47,
     "metadata": {},
     "output_type": "execute_result"
    }
   ],
   "source": [
    "expensas"
   ]
  },
  {
   "cell_type": "code",
   "execution_count": 13,
   "metadata": {},
   "outputs": [
    {
     "data": {
      "text/plain": [
       "<matplotlib.axes._subplots.AxesSubplot at 0x26843964788>"
      ]
     },
     "execution_count": 13,
     "metadata": {},
     "output_type": "execute_result"
    },
    {
     "data": {
      "image/png": "[encoded data removed]",
      "text/plain": [
       "<Figure size 432x288 with 1 Axes>"
      ]
     },
     "metadata": {
      "needs_background": "light"
     },
     "output_type": "display_data"
    }
   ],
   "source": [
    "expensas.plot(kind=\"scatter\", x=\"Fecha Prorrateo\", y=\"Exp A\")"
   ]
  },
  {
   "cell_type": "code",
   "execution_count": 24,
   "metadata": {},
   "outputs": [
    {
     "data": {
      "text/plain": [
       "<matplotlib.axes._subplots.AxesSubplot at 0x268436abc88>"
      ]
     },
     "execution_count": 24,
     "metadata": {},
     "output_type": "execute_result"
    },
    {
     "data": {
      "image/png": "[encoded data removed]",
      "text/plain": [
       "<Figure size 432x288 with 1 Axes>"
      ]
     },
     "metadata": {
      "needs_background": "light"
     },
     "output_type": "display_data"
    }
   ],
   "source": [
    "data.plot(kind=\"scatter\", x=\"Night Mins\", y=\"Night Charge\")"
   ]
  },
  {
   "cell_type": "code",
   "execution_count": 25,
   "metadata": {},
   "outputs": [
    {
     "data": {
      "image/png": "[encoded data removed]",
      "text/plain": [
       "<Figure size 432x288 with 4 Axes>"
      ]
     },
     "metadata": {
      "needs_background": "light"
     },
     "output_type": "display_data"
    }
   ],
   "source": [
    "figura, ejes = plt.subplots(2,2, sharey=True, sharex=True)"
   ]
  },
  {
   "cell_type": "code",
   "execution_count": 29,
   "metadata": {},
   "outputs": [
    {
     "data": {
      "text/plain": [
       "<matplotlib.axes._subplots.AxesSubplot at 0x26844fb10c8>"
      ]
     },
     "execution_count": 29,
     "metadata": {},
     "output_type": "execute_result"
    },
    {
     "data": {
      "image/png": "[encoded data removed]",
      "text/plain": [
       "<Figure size 432x288 with 4 Axes>"
      ]
     },
     "metadata": {
      "needs_background": "light"
     },
     "output_type": "display_data"
    }
   ],
   "source": [
    "figura, ejes = plt.subplots(2,2, sharey=True, sharex=True)\n",
    "data.plot(kind=\"scatter\", x=\"Day Mins\", y=\"Day Charge\", ax=ejes[0][0])\n",
    "data.plot(kind=\"scatter\", x=\"Night Mins\", y=\"Night Charge\", ax=ejes[0][1])\n",
    "data.plot(kind=\"scatter\", x=\"Day Calls\", y=\"Day Charge\", ax=ejes[1][0])\n",
    "data.plot(kind=\"scatter\", x=\"Night Calls\", y=\"Night Charge\", ax=ejes[1][1])"
   ]
  },
  {
   "cell_type": "code",
   "execution_count": 33,
   "metadata": {},
   "outputs": [
    {
     "data": {
      "text/plain": [
       "<matplotlib.axes._subplots.AxesSubplot at 0x2684540fcc8>"
      ]
     },
     "execution_count": 33,
     "metadata": {},
     "output_type": "execute_result"
    },
    {
     "data": {
      "image/png": "[encoded data removed]",
      "text/plain": [
       "<Figure size 432x288 with 4 Axes>"
      ]
     },
     "metadata": {
      "needs_background": "light"
     },
     "output_type": "display_data"
    }
   ],
   "source": [
    "figura, ejes = plt.subplots(2,2, sharey=True, sharex=True)\n",
    "expensas.plot(kind=\"scatter\", x=\"Fecha Prorrateo\", y=\"Exp A\", ax=ejes[0][0])\n",
    "expensas.plot(kind=\"scatter\", x=\"Fecha Prorrateo\", y=\"Cob Exp A\", ax=ejes[0][1])\n",
    "expensas.plot(kind=\"scatter\", x=\"Fecha Prorrateo\", y=\"Adicional\", ax=ejes[1][0])\n",
    "expensas.plot(kind=\"scatter\", x=\"Fecha Prorrateo\", y=\"Deuda\", ax=ejes[1][1])\n"
   ]
  },
  {
   "cell_type": "markdown",
   "metadata": {},
   "source": [
    "##### Histogramas de frecuencias "
   ]
  },
  {
   "cell_type": "code",
   "execution_count": 38,
   "metadata": {},
   "outputs": [
    {
     "data": {
      "text/plain": [
       "Text(0.5, 1.0, 'Histograma de Numeros de llamadas al dia')"
      ]
     },
     "execution_count": 38,
     "metadata": {},
     "output_type": "execute_result"
    },
    {
     "data": {
      "image/png": "[encoded data removed]",
      "text/plain": [
       "<Figure size 432x288 with 1 Axes>"
      ]
     },
     "metadata": {
      "needs_background": "light"
     },
     "output_type": "display_data"
    }
   ],
   "source": [
    "plt.hist(data[\"Day Calls\"], bins=20)\n",
    "plt.xlabel(\"Numero de Llamadas al dia\")\n",
    "plt.ylabel(\"frecuencia\")\n",
    "plt.title(\"Histograma de Numeros de llamadas al dia\")"
   ]
  },
  {
   "cell_type": "code",
   "execution_count": 43,
   "metadata": {},
   "outputs": [
    {
     "data": {
      "text/plain": [
       "Text(0.5, 1.0, 'Histograma Expensas A')"
      ]
     },
     "execution_count": 43,
     "metadata": {},
     "output_type": "execute_result"
    },
    {
     "data": {
      "image/png": "[encoded data removed]",
      "text/plain": [
       "<Figure size 432x288 with 1 Axes>"
      ]
     },
     "metadata": {
      "needs_background": "light"
     },
     "output_type": "display_data"
    }
   ],
   "source": [
    "plt.hist(expensas[\"Exp A\"], bins=1000)\n",
    "plt.xlabel(\"Importe Expensas\")\n",
    "plt.ylabel(\"frecuencia\")\n",
    "plt.title(\"Histograma Expensas A\")"
   ]
  },
  {
   "cell_type": "code",
   "execution_count": 45,
   "metadata": {},
   "outputs": [
    {
     "data": {
      "text/plain": [
       "Text(0.5, 1.0, 'Histograma Expensas A')"
      ]
     },
     "execution_count": 45,
     "metadata": {},
     "output_type": "execute_result"
    },
    {
     "data": {
      "image/png": "[encoded data removed]",
      "text/plain": [
       "<Figure size 432x288 with 1 Axes>"
      ]
     },
     "metadata": {
      "needs_background": "light"
     },
     "output_type": "display_data"
    }
   ],
   "source": [
    "plt.hist(expensas[\"Exp A\"], bins=[1000,2000,3000,5000,10000])\n",
    "plt.xlabel(\"Importe Expensas\")\n",
    "plt.ylabel(\"frecuencia\")\n",
    "plt.title(\"Histograma Expensas A\")"
   ]
  },
  {
   "cell_type": "markdown",
   "metadata": {},
   "source": [
    "###### Regla de Sturges para estadisticas "
   ]
  },
  {
   "cell_type": "code",
   "execution_count": 49,
   "metadata": {},
   "outputs": [
    {
     "data": {
      "text/plain": [
       "Text(0.5, 1.0, 'Histograma Expensas A')"
      ]
     },
     "execution_count": 49,
     "metadata": {},
     "output_type": "execute_result"
    },
    {
     "data": {
      "image/png": "[encoded data removed]",
      "text/plain": [
       "<Figure size 432x288 with 1 Axes>"
      ]
     },
     "metadata": {
      "needs_background": "light"
     },
     "output_type": "display_data"
    }
   ],
   "source": [
    "k = int(np.ceil(1+np.log2(26471)))\n",
    "plt.hist(expensas[\"Exp A\"], bins=k)\n",
    "plt.xlabel(\"Importe Expensas\")\n",
    "plt.ylabel(\"frecuencia\")\n",
    "plt.title(\"Histograma Expensas A\")"
   ]
  },
  {
   "cell_type": "markdown",
   "metadata": {},
   "source": [
    "##### Boxplot, diagramas de caja y bigotes"
   ]
  },
  {
   "cell_type": "code",
   "execution_count": 55,
   "metadata": {},
   "outputs": [
    {
     "data": {
      "text/plain": [
       "Text(0.5, 1.0, 'Boxplot de las llamadas diarias')"
      ]
     },
     "execution_count": 55,
     "metadata": {},
     "output_type": "execute_result"
    },
    {
     "data": {
      "image/png": "[encoded data removed]",
      "text/plain": [
       "<Figure size 432x288 with 1 Axes>"
      ]
     },
     "metadata": {
      "needs_background": "light"
     },
     "output_type": "display_data"
    }
   ],
   "source": [
    "plt.boxplot(data[\"Day Calls\"])\n",
    "plt.ylabel(\"Numeros de Llamadas diarias\")\n",
    "plt.title(\"Boxplot de las llamadas diarias\")"
   ]
  },
  {
   "cell_type": "code",
   "execution_count": 56,
   "metadata": {},
   "outputs": [
    {
     "data": {
      "text/plain": [
       "Text(0.5, 1.0, 'Boxplot de las Expensas A')"
      ]
     },
     "execution_count": 56,
     "metadata": {},
     "output_type": "execute_result"
    },
    {
     "data": {
      "image/png": "[encoded data removed]",
      "text/plain": [
       "<Figure size 432x288 with 1 Axes>"
      ]
     },
     "metadata": {
      "needs_background": "light"
     },
     "output_type": "display_data"
    }
   ],
   "source": [
    "plt.boxplot(expensas[\"Deuda\"])\n",
    "plt.ylabel(\"Importes de Expensas\")\n",
    "plt.title(\"Boxplot de las Expensas A\")"
   ]
  },
  {
   "cell_type": "code",
   "execution_count": 57,
   "metadata": {},
   "outputs": [
    {
     "data": {
      "text/html": [
       "<div>\n",
       "<style scoped>\n",
       "    .dataframe tbody tr th:only-of-type {\n",
       "        vertical-align: middle;\n",
       "    }\n",
       "\n",
       "    .dataframe tbody tr th {\n",
       "        vertical-align: top;\n",
       "    }\n",
       "\n",
       "    .dataframe thead th {\n",
       "        text-align: right;\n",
       "    }\n",
       "</style>\n",
       "<table border=\"1\" class=\"dataframe\">\n",
       "  <thead>\n",
       "    <tr style=\"text-align: right;\">\n",
       "      <th></th>\n",
       "      <th>Codigo Prorrateo</th>\n",
       "      <th>Codigo Unidad</th>\n",
       "      <th>Codigo Consorcio</th>\n",
       "      <th>Exp A</th>\n",
       "      <th>Exp B</th>\n",
       "      <th>Exp C</th>\n",
       "      <th>Exp D</th>\n",
       "      <th>F Reserva</th>\n",
       "      <th>Adicional</th>\n",
       "      <th>Particular</th>\n",
       "      <th>...</th>\n",
       "      <th>Cob Exp B</th>\n",
       "      <th>Cob Exp C</th>\n",
       "      <th>Cob Exp D</th>\n",
       "      <th>Cob F Reserva</th>\n",
       "      <th>Cob Adicional</th>\n",
       "      <th>Cob Particular</th>\n",
       "      <th>Cob Deuda</th>\n",
       "      <th>Cob Interes</th>\n",
       "      <th>Cob Segundo Interes</th>\n",
       "      <th>Su pago Anterior</th>\n",
       "    </tr>\n",
       "  </thead>\n",
       "  <tbody>\n",
       "    <tr>\n",
       "      <th>count</th>\n",
       "      <td>26471.000000</td>\n",
       "      <td>26471.000000</td>\n",
       "      <td>26471.000000</td>\n",
       "      <td>26471.000000</td>\n",
       "      <td>26471.000000</td>\n",
       "      <td>26471.000000</td>\n",
       "      <td>26471.0</td>\n",
       "      <td>26471.000000</td>\n",
       "      <td>26471.000000</td>\n",
       "      <td>26471.0</td>\n",
       "      <td>...</td>\n",
       "      <td>26471.000000</td>\n",
       "      <td>26470.000000</td>\n",
       "      <td>26471.0</td>\n",
       "      <td>26471.000000</td>\n",
       "      <td>26471.000000</td>\n",
       "      <td>26471.000000</td>\n",
       "      <td>26471.000000</td>\n",
       "      <td>26471.000000</td>\n",
       "      <td>26471.000000</td>\n",
       "      <td>26471.000000</td>\n",
       "    </tr>\n",
       "    <tr>\n",
       "      <th>mean</th>\n",
       "      <td>119424.426996</td>\n",
       "      <td>936.101961</td>\n",
       "      <td>59.760304</td>\n",
       "      <td>1743.163046</td>\n",
       "      <td>67.092932</td>\n",
       "      <td>20.751351</td>\n",
       "      <td>0.0</td>\n",
       "      <td>15.293151</td>\n",
       "      <td>433.189566</td>\n",
       "      <td>0.0</td>\n",
       "      <td>...</td>\n",
       "      <td>57.507461</td>\n",
       "      <td>16.883037</td>\n",
       "      <td>0.0</td>\n",
       "      <td>13.815043</td>\n",
       "      <td>356.783726</td>\n",
       "      <td>0.034377</td>\n",
       "      <td>303.731933</td>\n",
       "      <td>21.526501</td>\n",
       "      <td>2.063617</td>\n",
       "      <td>2197.258358</td>\n",
       "    </tr>\n",
       "    <tr>\n",
       "      <th>std</th>\n",
       "      <td>8158.301404</td>\n",
       "      <td>569.089227</td>\n",
       "      <td>38.950813</td>\n",
       "      <td>1299.084384</td>\n",
       "      <td>171.931853</td>\n",
       "      <td>151.397372</td>\n",
       "      <td>0.0</td>\n",
       "      <td>64.777260</td>\n",
       "      <td>700.931034</td>\n",
       "      <td>0.0</td>\n",
       "      <td>...</td>\n",
       "      <td>162.212456</td>\n",
       "      <td>137.137219</td>\n",
       "      <td>0.0</td>\n",
       "      <td>109.607562</td>\n",
       "      <td>659.290643</td>\n",
       "      <td>5.593147</td>\n",
       "      <td>1822.924586</td>\n",
       "      <td>190.185636</td>\n",
       "      <td>29.912780</td>\n",
       "      <td>2653.334014</td>\n",
       "    </tr>\n",
       "    <tr>\n",
       "      <th>min</th>\n",
       "      <td>104011.000000</td>\n",
       "      <td>20.000000</td>\n",
       "      <td>3.000000</td>\n",
       "      <td>0.000000</td>\n",
       "      <td>-134.000000</td>\n",
       "      <td>-961.000000</td>\n",
       "      <td>0.0</td>\n",
       "      <td>0.000000</td>\n",
       "      <td>-13.000000</td>\n",
       "      <td>0.0</td>\n",
       "      <td>...</td>\n",
       "      <td>-134.000000</td>\n",
       "      <td>-961.000000</td>\n",
       "      <td>0.0</td>\n",
       "      <td>0.000000</td>\n",
       "      <td>0.000000</td>\n",
       "      <td>0.000000</td>\n",
       "      <td>-13063.000000</td>\n",
       "      <td>-299.000000</td>\n",
       "      <td>0.000000</td>\n",
       "      <td>-696.000000</td>\n",
       "    </tr>\n",
       "    <tr>\n",
       "      <th>25%</th>\n",
       "      <td>112783.500000</td>\n",
       "      <td>316.000000</td>\n",
       "      <td>20.000000</td>\n",
       "      <td>903.000000</td>\n",
       "      <td>0.000000</td>\n",
       "      <td>0.000000</td>\n",
       "      <td>0.0</td>\n",
       "      <td>0.000000</td>\n",
       "      <td>0.000000</td>\n",
       "      <td>0.0</td>\n",
       "      <td>...</td>\n",
       "      <td>0.000000</td>\n",
       "      <td>0.000000</td>\n",
       "      <td>0.0</td>\n",
       "      <td>0.000000</td>\n",
       "      <td>0.000000</td>\n",
       "      <td>0.000000</td>\n",
       "      <td>0.000000</td>\n",
       "      <td>0.000000</td>\n",
       "      <td>0.000000</td>\n",
       "      <td>863.000000</td>\n",
       "    </tr>\n",
       "    <tr>\n",
       "      <th>50%</th>\n",
       "      <td>119767.000000</td>\n",
       "      <td>1245.000000</td>\n",
       "      <td>63.000000</td>\n",
       "      <td>1443.000000</td>\n",
       "      <td>0.000000</td>\n",
       "      <td>0.000000</td>\n",
       "      <td>0.0</td>\n",
       "      <td>0.000000</td>\n",
       "      <td>244.000000</td>\n",
       "      <td>0.0</td>\n",
       "      <td>...</td>\n",
       "      <td>0.000000</td>\n",
       "      <td>0.000000</td>\n",
       "      <td>0.0</td>\n",
       "      <td>0.000000</td>\n",
       "      <td>177.000000</td>\n",
       "      <td>0.000000</td>\n",
       "      <td>0.000000</td>\n",
       "      <td>0.000000</td>\n",
       "      <td>0.000000</td>\n",
       "      <td>1702.000000</td>\n",
       "    </tr>\n",
       "    <tr>\n",
       "      <th>75%</th>\n",
       "      <td>126408.500000</td>\n",
       "      <td>1465.000000</td>\n",
       "      <td>100.000000</td>\n",
       "      <td>2260.000000</td>\n",
       "      <td>0.000000</td>\n",
       "      <td>0.000000</td>\n",
       "      <td>0.0</td>\n",
       "      <td>0.000000</td>\n",
       "      <td>558.000000</td>\n",
       "      <td>0.0</td>\n",
       "      <td>...</td>\n",
       "      <td>0.000000</td>\n",
       "      <td>0.000000</td>\n",
       "      <td>0.0</td>\n",
       "      <td>0.000000</td>\n",
       "      <td>446.000000</td>\n",
       "      <td>0.000000</td>\n",
       "      <td>0.000000</td>\n",
       "      <td>0.000000</td>\n",
       "      <td>0.000000</td>\n",
       "      <td>2927.000000</td>\n",
       "    </tr>\n",
       "    <tr>\n",
       "      <th>max</th>\n",
       "      <td>133054.000000</td>\n",
       "      <td>1690.000000</td>\n",
       "      <td>135.000000</td>\n",
       "      <td>23970.000000</td>\n",
       "      <td>3300.000000</td>\n",
       "      <td>3690.000000</td>\n",
       "      <td>0.0</td>\n",
       "      <td>553.000000</td>\n",
       "      <td>17578.000000</td>\n",
       "      <td>0.0</td>\n",
       "      <td>...</td>\n",
       "      <td>3300.000000</td>\n",
       "      <td>3690.000000</td>\n",
       "      <td>0.0</td>\n",
       "      <td>14920.000000</td>\n",
       "      <td>17578.000000</td>\n",
       "      <td>910.000000</td>\n",
       "      <td>203623.000000</td>\n",
       "      <td>9886.000000</td>\n",
       "      <td>2717.000000</td>\n",
       "      <td>210000.000000</td>\n",
       "    </tr>\n",
       "  </tbody>\n",
       "</table>\n",
       "<p>8 rows × 24 columns</p>\n",
       "</div>"
      ],
      "text/plain": [
       "       Codigo Prorrateo  Codigo Unidad  Codigo Consorcio         Exp A  \\\n",
       "count      26471.000000   26471.000000      26471.000000  26471.000000   \n",
       "mean      119424.426996     936.101961         59.760304   1743.163046   \n",
       "std         8158.301404     569.089227         38.950813   1299.084384   \n",
       "min       104011.000000      20.000000          3.000000      0.000000   \n",
       "25%       112783.500000     316.000000         20.000000    903.000000   \n",
       "50%       119767.000000    1245.000000         63.000000   1443.000000   \n",
       "75%       126408.500000    1465.000000        100.000000   2260.000000   \n",
       "max       133054.000000    1690.000000        135.000000  23970.000000   \n",
       "\n",
       "              Exp B         Exp C    Exp D     F Reserva     Adicional  \\\n",
       "count  26471.000000  26471.000000  26471.0  26471.000000  26471.000000   \n",
       "mean      67.092932     20.751351      0.0     15.293151    433.189566   \n",
       "std      171.931853    151.397372      0.0     64.777260    700.931034   \n",
       "min     -134.000000   -961.000000      0.0      0.000000    -13.000000   \n",
       "25%        0.000000      0.000000      0.0      0.000000      0.000000   \n",
       "50%        0.000000      0.000000      0.0      0.000000    244.000000   \n",
       "75%        0.000000      0.000000      0.0      0.000000    558.000000   \n",
       "max     3300.000000   3690.000000      0.0    553.000000  17578.000000   \n",
       "\n",
       "       Particular  ...     Cob Exp B     Cob Exp C  Cob Exp D  Cob F Reserva  \\\n",
       "count     26471.0  ...  26471.000000  26470.000000    26471.0   26471.000000   \n",
       "mean          0.0  ...     57.507461     16.883037        0.0      13.815043   \n",
       "std           0.0  ...    162.212456    137.137219        0.0     109.607562   \n",
       "min           0.0  ...   -134.000000   -961.000000        0.0       0.000000   \n",
       "25%           0.0  ...      0.000000      0.000000        0.0       0.000000   \n",
       "50%           0.0  ...      0.000000      0.000000        0.0       0.000000   \n",
       "75%           0.0  ...      0.000000      0.000000        0.0       0.000000   \n",
       "max           0.0  ...   3300.000000   3690.000000        0.0   14920.000000   \n",
       "\n",
       "       Cob Adicional  Cob Particular      Cob Deuda   Cob Interes  \\\n",
       "count   26471.000000    26471.000000   26471.000000  26471.000000   \n",
       "mean      356.783726        0.034377     303.731933     21.526501   \n",
       "std       659.290643        5.593147    1822.924586    190.185636   \n",
       "min         0.000000        0.000000  -13063.000000   -299.000000   \n",
       "25%         0.000000        0.000000       0.000000      0.000000   \n",
       "50%       177.000000        0.000000       0.000000      0.000000   \n",
       "75%       446.000000        0.000000       0.000000      0.000000   \n",
       "max     17578.000000      910.000000  203623.000000   9886.000000   \n",
       "\n",
       "       Cob Segundo Interes  Su pago Anterior  \n",
       "count         26471.000000      26471.000000  \n",
       "mean              2.063617       2197.258358  \n",
       "std              29.912780       2653.334014  \n",
       "min               0.000000       -696.000000  \n",
       "25%               0.000000        863.000000  \n",
       "50%               0.000000       1702.000000  \n",
       "75%               0.000000       2927.000000  \n",
       "max            2717.000000     210000.000000  \n",
       "\n",
       "[8 rows x 24 columns]"
      ]
     },
     "execution_count": 57,
     "metadata": {},
     "output_type": "execute_result"
    }
   ],
   "source": [
    "expensas.describe()"
   ]
  },
  {
   "cell_type": "code",
   "execution_count": 58,
   "metadata": {},
   "outputs": [
    {
     "data": {
      "text/plain": [
       "46143269"
      ]
     },
     "execution_count": 58,
     "metadata": {},
     "output_type": "execute_result"
    }
   ],
   "source": [
    "expensas[\"Exp A\"].sum()"
   ]
  },
  {
   "cell_type": "code",
   "execution_count": 59,
   "metadata": {},
   "outputs": [
    {
     "data": {
      "text/plain": [
       "count    26471.000000\n",
       "mean      1743.163046\n",
       "std       1299.084384\n",
       "min          0.000000\n",
       "25%        903.000000\n",
       "50%       1443.000000\n",
       "75%       2260.000000\n",
       "max      23970.000000\n",
       "Name: Exp A, dtype: float64"
      ]
     },
     "execution_count": 59,
     "metadata": {},
     "output_type": "execute_result"
    }
   ],
   "source": [
    "expensas[\"Exp A\"].describe()"
   ]
  },
  {
   "cell_type": "markdown",
   "metadata": {},
   "source": [
    "###### Rango interquartirico "
   ]
  },
  {
   "cell_type": "code",
   "execution_count": 60,
   "metadata": {},
   "outputs": [
    {
     "data": {
      "text/plain": [
       "1357.0"
      ]
     },
     "execution_count": 60,
     "metadata": {},
     "output_type": "execute_result"
    }
   ],
   "source": [
    "IQR=expensas[\"Exp A\"].quantile(0.75)-expensas[\"Exp A\"].quantile(0.25)\n",
    "IQR"
   ]
  },
  {
   "cell_type": "code",
   "execution_count": 61,
   "metadata": {},
   "outputs": [
    {
     "data": {
      "text/plain": [
       "-1132.5"
      ]
     },
     "execution_count": 61,
     "metadata": {},
     "output_type": "execute_result"
    }
   ],
   "source": [
    "expensas[\"Exp A\"].quantile(0.25) - 1.5*IQR"
   ]
  },
  {
   "cell_type": "code",
   "execution_count": 62,
   "metadata": {},
   "outputs": [
    {
     "data": {
      "text/plain": [
       "224.5"
      ]
     },
     "execution_count": 62,
     "metadata": {},
     "output_type": "execute_result"
    }
   ],
   "source": [
    "expensas[\"Exp A\"].quantile(0.75) - 1.5*IQR"
   ]
  },
  {
   "cell_type": "code",
   "execution_count": null,
   "metadata": {},
   "outputs": [],
   "source": []
  }
 ],
 "metadata": {
  "kernelspec": {
   "display_name": "Python 3",
   "language": "python",
   "name": "python3"
  },
  "language_info": {
   "codemirror_mode": {
    "name": "ipython",
    "version": 3
   },
   "file_extension": ".py",
   "mimetype": "text/x-python",
   "name": "python",
   "nbconvert_exporter": "python",
   "pygments_lexer": "ipython3",
   "version": "3.7.7"
  }
 },
 "nbformat": 4,
 "nbformat_minor": 4
}
